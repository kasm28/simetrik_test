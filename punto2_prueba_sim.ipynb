{
 "cells": [
  {
   "cell_type": "markdown",
   "metadata": {},
   "source": [
    "### 1. Data Preparation"
   ]
  },
  {
   "cell_type": "code",
   "execution_count": 1,
   "metadata": {},
   "outputs": [],
   "source": [
    "# importing modules\n",
    "import pandas as pd\n",
    "import numpy as np\n",
    "import locale\n",
    "from datetime import datetime as dt\n",
    "import matplotlib.pyplot as plt\n",
    "%matplotlib inline\n",
    "\n",
    "#Displaying all dataframe columns\n",
    "pd.set_option('display.max_columns', None)"
   ]
  },
  {
   "cell_type": "code",
   "execution_count": 2,
   "metadata": {},
   "outputs": [],
   "source": [
    "#Loading datasets\n",
    "base = pd.read_fwf('prueba_txt.txt', header=None)"
   ]
  },
  {
   "cell_type": "code",
   "execution_count": 3,
   "metadata": {},
   "outputs": [
    {
     "data": {
      "text/html": [
       "<div>\n",
       "<style scoped>\n",
       "    .dataframe tbody tr th:only-of-type {\n",
       "        vertical-align: middle;\n",
       "    }\n",
       "\n",
       "    .dataframe tbody tr th {\n",
       "        vertical-align: top;\n",
       "    }\n",
       "\n",
       "    .dataframe thead th {\n",
       "        text-align: right;\n",
       "    }\n",
       "</style>\n",
       "<table border=\"1\" class=\"dataframe\">\n",
       "  <thead>\n",
       "    <tr style=\"text-align: right;\">\n",
       "      <th></th>\n",
       "      <th>0</th>\n",
       "      <th>1</th>\n",
       "      <th>2</th>\n",
       "      <th>3</th>\n",
       "      <th>4</th>\n",
       "    </tr>\n",
       "  </thead>\n",
       "  <tbody>\n",
       "    <tr>\n",
       "      <th>0</th>\n",
       "      <td>ADRIA</td>\n",
       "      <td>Diesel</td>\n",
       "      <td>NaN</td>\n",
       "      <td>Galicia</td>\n",
       "      <td>0001</td>\n",
       "    </tr>\n",
       "    <tr>\n",
       "      <th>1</th>\n",
       "      <td>ALFAROMEO</td>\n",
       "      <td>Diesel</td>\n",
       "      <td>NaN</td>\n",
       "      <td>Andalucía</td>\n",
       "      <td>0047</td>\n",
       "    </tr>\n",
       "    <tr>\n",
       "      <th>2</th>\n",
       "      <td>ALFAROMEO</td>\n",
       "      <td>Diesel</td>\n",
       "      <td>NaN</td>\n",
       "      <td>Aragón</td>\n",
       "      <td>0041</td>\n",
       "    </tr>\n",
       "    <tr>\n",
       "      <th>3</th>\n",
       "      <td>ALFAROMEO</td>\n",
       "      <td>Diesel</td>\n",
       "      <td>NaN</td>\n",
       "      <td>Asturias (Principado de)</td>\n",
       "      <td>0010</td>\n",
       "    </tr>\n",
       "    <tr>\n",
       "      <th>4</th>\n",
       "      <td>ALFAROMEO</td>\n",
       "      <td>Diesel</td>\n",
       "      <td>NaN</td>\n",
       "      <td>Balears (Illes)</td>\n",
       "      <td>0006</td>\n",
       "    </tr>\n",
       "  </tbody>\n",
       "</table>\n",
       "</div>"
      ],
      "text/plain": [
       "           0       1    2                         3     4\n",
       "0      ADRIA  Diesel  NaN                   Galicia  0001\n",
       "1  ALFAROMEO  Diesel  NaN                 Andalucía  0047\n",
       "2  ALFAROMEO  Diesel  NaN                    Aragón  0041\n",
       "3  ALFAROMEO  Diesel  NaN  Asturias (Principado de)  0010\n",
       "4  ALFAROMEO  Diesel  NaN           Balears (Illes)  0006"
      ]
     },
     "execution_count": 3,
     "metadata": {},
     "output_type": "execute_result"
    }
   ],
   "source": [
    "base.head()"
   ]
  },
  {
   "cell_type": "code",
   "execution_count": 4,
   "metadata": {},
   "outputs": [
    {
     "data": {
      "text/plain": [
       "0    object\n",
       "1    object\n",
       "3    object\n",
       "4    object\n",
       "dtype: object"
      ]
     },
     "execution_count": 4,
     "metadata": {},
     "output_type": "execute_result"
    }
   ],
   "source": [
    "#eliminamos la columna sin valores\n",
    "base = base.drop(2, axis=1)\n",
    "base.dtypes"
   ]
  },
  {
   "cell_type": "code",
   "execution_count": 5,
   "metadata": {},
   "outputs": [
    {
     "data": {
      "text/html": [
       "<div>\n",
       "<style scoped>\n",
       "    .dataframe tbody tr th:only-of-type {\n",
       "        vertical-align: middle;\n",
       "    }\n",
       "\n",
       "    .dataframe tbody tr th {\n",
       "        vertical-align: top;\n",
       "    }\n",
       "\n",
       "    .dataframe thead th {\n",
       "        text-align: right;\n",
       "    }\n",
       "</style>\n",
       "<table border=\"1\" class=\"dataframe\">\n",
       "  <thead>\n",
       "    <tr style=\"text-align: right;\">\n",
       "      <th></th>\n",
       "      <th>0</th>\n",
       "      <th>1</th>\n",
       "      <th>3</th>\n",
       "      <th>4</th>\n",
       "      <th>Consecutivo</th>\n",
       "    </tr>\n",
       "  </thead>\n",
       "  <tbody>\n",
       "    <tr>\n",
       "      <th>0</th>\n",
       "      <td>ADRIA</td>\n",
       "      <td>Diesel</td>\n",
       "      <td>Galicia</td>\n",
       "      <td>0001</td>\n",
       "      <td>1</td>\n",
       "    </tr>\n",
       "    <tr>\n",
       "      <th>1</th>\n",
       "      <td>ALFAROMEO</td>\n",
       "      <td>Diesel</td>\n",
       "      <td>Andalucía</td>\n",
       "      <td>0047</td>\n",
       "      <td>2</td>\n",
       "    </tr>\n",
       "    <tr>\n",
       "      <th>2</th>\n",
       "      <td>ALFAROMEO</td>\n",
       "      <td>Diesel</td>\n",
       "      <td>Aragón</td>\n",
       "      <td>0041</td>\n",
       "      <td>3</td>\n",
       "    </tr>\n",
       "    <tr>\n",
       "      <th>3</th>\n",
       "      <td>ALFAROMEO</td>\n",
       "      <td>Diesel</td>\n",
       "      <td>Asturias (Principado de)</td>\n",
       "      <td>0010</td>\n",
       "      <td>4</td>\n",
       "    </tr>\n",
       "    <tr>\n",
       "      <th>4</th>\n",
       "      <td>ALFAROMEO</td>\n",
       "      <td>Diesel</td>\n",
       "      <td>Balears (Illes)</td>\n",
       "      <td>0006</td>\n",
       "      <td>5</td>\n",
       "    </tr>\n",
       "  </tbody>\n",
       "</table>\n",
       "</div>"
      ],
      "text/plain": [
       "           0       1                         3     4  Consecutivo\n",
       "0      ADRIA  Diesel                   Galicia  0001            1\n",
       "1  ALFAROMEO  Diesel                 Andalucía  0047            2\n",
       "2  ALFAROMEO  Diesel                    Aragón  0041            3\n",
       "3  ALFAROMEO  Diesel  Asturias (Principado de)  0010            4\n",
       "4  ALFAROMEO  Diesel           Balears (Illes)  0006            5"
      ]
     },
     "execution_count": 5,
     "metadata": {},
     "output_type": "execute_result"
    }
   ],
   "source": [
    "#insertamos la columna de consecutivo\n",
    "base.insert(4, 'Consecutivo', range(1, 1 + len(base)))\n",
    "base.head()"
   ]
  },
  {
   "cell_type": "code",
   "execution_count": 6,
   "metadata": {},
   "outputs": [
    {
     "data": {
      "text/html": [
       "<div>\n",
       "<style scoped>\n",
       "    .dataframe tbody tr th:only-of-type {\n",
       "        vertical-align: middle;\n",
       "    }\n",
       "\n",
       "    .dataframe tbody tr th {\n",
       "        vertical-align: top;\n",
       "    }\n",
       "\n",
       "    .dataframe thead th {\n",
       "        text-align: right;\n",
       "    }\n",
       "</style>\n",
       "<table border=\"1\" class=\"dataframe\">\n",
       "  <thead>\n",
       "    <tr style=\"text-align: right;\">\n",
       "      <th></th>\n",
       "      <th>0</th>\n",
       "      <th>1</th>\n",
       "      <th>3</th>\n",
       "      <th>4</th>\n",
       "      <th>Consecutivo</th>\n",
       "      <th>Fecha</th>\n",
       "    </tr>\n",
       "  </thead>\n",
       "  <tbody>\n",
       "    <tr>\n",
       "      <th>0</th>\n",
       "      <td>ADRIA</td>\n",
       "      <td>Diesel</td>\n",
       "      <td>Galicia</td>\n",
       "      <td>0001</td>\n",
       "      <td>1</td>\n",
       "      <td>2019-07-06</td>\n",
       "    </tr>\n",
       "    <tr>\n",
       "      <th>1</th>\n",
       "      <td>ALFAROMEO</td>\n",
       "      <td>Diesel</td>\n",
       "      <td>Andalucía</td>\n",
       "      <td>0047</td>\n",
       "      <td>2</td>\n",
       "      <td>2019-07-06</td>\n",
       "    </tr>\n",
       "    <tr>\n",
       "      <th>2</th>\n",
       "      <td>ALFAROMEO</td>\n",
       "      <td>Diesel</td>\n",
       "      <td>Aragón</td>\n",
       "      <td>0041</td>\n",
       "      <td>3</td>\n",
       "      <td>2019-07-06</td>\n",
       "    </tr>\n",
       "    <tr>\n",
       "      <th>3</th>\n",
       "      <td>ALFAROMEO</td>\n",
       "      <td>Diesel</td>\n",
       "      <td>Asturias (Principado de)</td>\n",
       "      <td>0010</td>\n",
       "      <td>4</td>\n",
       "      <td>2019-07-06</td>\n",
       "    </tr>\n",
       "    <tr>\n",
       "      <th>4</th>\n",
       "      <td>ALFAROMEO</td>\n",
       "      <td>Diesel</td>\n",
       "      <td>Balears (Illes)</td>\n",
       "      <td>0006</td>\n",
       "      <td>5</td>\n",
       "      <td>2019-07-06</td>\n",
       "    </tr>\n",
       "  </tbody>\n",
       "</table>\n",
       "</div>"
      ],
      "text/plain": [
       "           0       1                         3     4  Consecutivo      Fecha\n",
       "0      ADRIA  Diesel                   Galicia  0001            1 2019-07-06\n",
       "1  ALFAROMEO  Diesel                 Andalucía  0047            2 2019-07-06\n",
       "2  ALFAROMEO  Diesel                    Aragón  0041            3 2019-07-06\n",
       "3  ALFAROMEO  Diesel  Asturias (Principado de)  0010            4 2019-07-06\n",
       "4  ALFAROMEO  Diesel           Balears (Illes)  0006            5 2019-07-06"
      ]
     },
     "execution_count": 6,
     "metadata": {},
     "output_type": "execute_result"
    }
   ],
   "source": [
    "#insertamos la columna con la fecha requerida\n",
    "base['Fecha']= pd.to_datetime(\"'06-07-2019'\", dayfirst=True)\n",
    "base.head()"
   ]
  },
  {
   "cell_type": "code",
   "execution_count": 7,
   "metadata": {},
   "outputs": [
    {
     "data": {
      "text/html": [
       "<div>\n",
       "<style scoped>\n",
       "    .dataframe tbody tr th:only-of-type {\n",
       "        vertical-align: middle;\n",
       "    }\n",
       "\n",
       "    .dataframe tbody tr th {\n",
       "        vertical-align: top;\n",
       "    }\n",
       "\n",
       "    .dataframe thead th {\n",
       "        text-align: right;\n",
       "    }\n",
       "</style>\n",
       "<table border=\"1\" class=\"dataframe\">\n",
       "  <thead>\n",
       "    <tr style=\"text-align: right;\">\n",
       "      <th></th>\n",
       "      <th>Marca</th>\n",
       "      <th>Tipo</th>\n",
       "      <th>Ubicacion</th>\n",
       "      <th>Placa</th>\n",
       "      <th>Consecutivo</th>\n",
       "      <th>Fecha</th>\n",
       "    </tr>\n",
       "  </thead>\n",
       "  <tbody>\n",
       "    <tr>\n",
       "      <th>0</th>\n",
       "      <td>ADRIA</td>\n",
       "      <td>Diesel</td>\n",
       "      <td>Galicia</td>\n",
       "      <td>0001</td>\n",
       "      <td>1</td>\n",
       "      <td>2019-07-06</td>\n",
       "    </tr>\n",
       "    <tr>\n",
       "      <th>1</th>\n",
       "      <td>ALFAROMEO</td>\n",
       "      <td>Diesel</td>\n",
       "      <td>Andalucía</td>\n",
       "      <td>0047</td>\n",
       "      <td>2</td>\n",
       "      <td>2019-07-06</td>\n",
       "    </tr>\n",
       "    <tr>\n",
       "      <th>2</th>\n",
       "      <td>ALFAROMEO</td>\n",
       "      <td>Diesel</td>\n",
       "      <td>Aragón</td>\n",
       "      <td>0041</td>\n",
       "      <td>3</td>\n",
       "      <td>2019-07-06</td>\n",
       "    </tr>\n",
       "    <tr>\n",
       "      <th>3</th>\n",
       "      <td>ALFAROMEO</td>\n",
       "      <td>Diesel</td>\n",
       "      <td>Asturias (Principado de)</td>\n",
       "      <td>0010</td>\n",
       "      <td>4</td>\n",
       "      <td>2019-07-06</td>\n",
       "    </tr>\n",
       "    <tr>\n",
       "      <th>4</th>\n",
       "      <td>ALFAROMEO</td>\n",
       "      <td>Diesel</td>\n",
       "      <td>Balears (Illes)</td>\n",
       "      <td>0006</td>\n",
       "      <td>5</td>\n",
       "      <td>2019-07-06</td>\n",
       "    </tr>\n",
       "  </tbody>\n",
       "</table>\n",
       "</div>"
      ],
      "text/plain": [
       "       Marca    Tipo                 Ubicacion Placa  Consecutivo      Fecha\n",
       "0      ADRIA  Diesel                   Galicia  0001            1 2019-07-06\n",
       "1  ALFAROMEO  Diesel                 Andalucía  0047            2 2019-07-06\n",
       "2  ALFAROMEO  Diesel                    Aragón  0041            3 2019-07-06\n",
       "3  ALFAROMEO  Diesel  Asturias (Principado de)  0010            4 2019-07-06\n",
       "4  ALFAROMEO  Diesel           Balears (Illes)  0006            5 2019-07-06"
      ]
     },
     "execution_count": 7,
     "metadata": {},
     "output_type": "execute_result"
    }
   ],
   "source": [
    "#cambiamos los nombres de las columnas \n",
    "base.columns = ['Marca', 'Tipo', 'Ubicacion', 'Placa', 'Consecutivo', 'Fecha']\n",
    "base.head()"
   ]
  },
  {
   "cell_type": "code",
   "execution_count": 8,
   "metadata": {},
   "outputs": [
    {
     "data": {
      "text/plain": [
       "Marca                  object\n",
       "Tipo                   object\n",
       "Ubicacion              object\n",
       "Placa                  object\n",
       "Consecutivo             int32\n",
       "Fecha          datetime64[ns]\n",
       "dtype: object"
      ]
     },
     "execution_count": 8,
     "metadata": {},
     "output_type": "execute_result"
    }
   ],
   "source": [
    "base.dtypes"
   ]
  },
  {
   "cell_type": "code",
   "execution_count": 9,
   "metadata": {},
   "outputs": [],
   "source": [
    "#una vez realizados los cambios a la base de datos la exportamos a .csv\n",
    "base.to_csv('2do_punto_prueba.csv', index=False, header=True, encoding=\"utf-8\")"
   ]
  }
 ],
 "metadata": {
  "kernelspec": {
   "display_name": "Python 3",
   "language": "python",
   "name": "python3"
  },
  "language_info": {
   "codemirror_mode": {
    "name": "ipython",
    "version": 3
   },
   "file_extension": ".py",
   "mimetype": "text/x-python",
   "name": "python",
   "nbconvert_exporter": "python",
   "pygments_lexer": "ipython3",
   "version": "3.7.3"
  }
 },
 "nbformat": 4,
 "nbformat_minor": 2
}
